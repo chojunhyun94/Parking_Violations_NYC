{
 "cells": [
  {
   "cell_type": "code",
   "execution_count": null,
   "id": "34a17593",
   "metadata": {},

   "source": [
    "import pandas as pd\n",
    "pd.set_option('display.max_columns', None)\n",
    "df = pd.read_csv('../Resources/cleaned_data.csv')\n",
    "\n",
    "df.head(10)"
   ]
  },
  {
   "cell_type": "code",
   "execution_count": null,
   "id": "5ce8ee7f",
   "metadata": {},
   "outputs": [],
   "source": [
    "#dictionaries from ml file for recategorization\n",
    "plate_types = {\n",
    "    'PAS': 1,\n",
    "    'COM': 2,\n",
    "    'OMT': 3,\n",
    "    'SRF': 4,\n",
    "    'OMS': 5,\n",
    "    'APP': 6,\n",
    "    'TRC': 7,\n",
    "    'ORG': 8\n",
    "}\n",
    "\n",
    "states = {\n",
    "    'NY': 1,\n",
    "    'NJ': 2,\n",
    "    'PA': 3,\n",
    "    'GA': 4,\n",
    "    'FL': 5,\n",
    "    'TX': 6,\n",
    "    'CT': 7\n",
    "}\n",
    "\n",
    "#encoding dicts\n",
    "body_types = {\n",
    "    'SUBN':0,\n",
    "    '4DSD':1,\n",
    "    'VAN':2,\n",
    "    'PICK':3,\n",
    "    'DELV':4,\n",
    "    '2DSD':5,\n",
    "    'REFG':6,\n",
    "    'SDN':7\n",
    "}\n",
    "\n",
    "make_types = {\n",
    "    'HONDA':0,\n",
    "    'FORD':1,\n",
    "    'TOYOT':2,\n",
    "    'NISSA':3,\n",
    "    'CHEVR':4,\n",
    "    'ME/BE':5,\n",
    "    'BMW':6,\n",
    "    'JEEP':7,\n",
    "    'FRUEH':8,\n",
    "    'HYUND':9,\n",
    "    'SUBAR':10,\n",
    "    'LEXUS':11\n",
    "}\n",
    "\n",
    "color_dict = {'RD': 'RED', 'RED': 'RED', 'R': 'RED', 'BLK': 'BLK', 'BLACK': 'BLK', 'BK': 'BLK', \\\n",
    "              'DK': 'BLK', 'BLUE': 'BLU', 'BLU': 'BLU', 'BL': 'BLU', 'BLBL': 'BLU', 'DKBL': 'BLU',\\\n",
    "              'WHT': 'WHT', 'WH': 'WHT', 'WT': 'WHT', 'WHI': 'WHT', 'W': 'WHT', 'WHIT': 'WHT', \\\n",
    "              'WTE': 'WHT', 'WHTN': 'WHT', 'White': 'WHT', 'GR': 'GRN', 'GREEN': 'GRN', 'GRN': \\\n",
    "              'GRN', 'GY': 'GRY', 'GRAY': 'GRY', 'GRY': 'GRY', 'GARY': 'GRY', 'Gray': 'GRY', \\\n",
    "              'GRA': 'GRY', 'SILVE': 'GRY', 'SLV': 'GRY', 'SIL': 'GRY', 'SILV': 'GRY', 'SILVR': 'GRY',\\\n",
    "              'SIVR': 'GRY', 'SILIV': 'GRY', 'SLIVE': 'GRY', 'SILVA': 'GRY', 'DK/GY': 'GRY',\\\n",
    "              'LT/GR': 'GRY', 'SLVER': 'GRY', 'GAY': 'GRY', 'SILER': 'GRY', 'GGREY': 'GRY',\\\n",
    "              'OR': 'ORG', 'ORG': 'ORG', 'ONG': 'ORG', 'TAN': 'BRN', 'BRO': 'BRN', 'BEIGE': 'BRN', \\\n",
    "              'BROW': 'BRN', 'BROWN': 'BRN'}"
   ]
  },
  {
   "cell_type": "code",
   "execution_count": null,
   "id": "b5e40495",
   "metadata": {},

   "source": [
    "other_df = df.copy()\n",
    "other_df.head()"
   ]
  },
  {
   "cell_type": "code",
   "execution_count": null,
   "id": "d9d88c5b",
   "metadata": {},

   "source": [
    "other_df['Registration State'] = other_df['Registration State'].apply(lambda x: x if x in states else 'OTHER')\n",
    "other_df['Plate Type'] = other_df['Plate Type'].apply(lambda x: x if x in plate_types else 'OTHER')\n",
    "other_df['Vehicle Body Type'] = other_df['Vehicle Body Type'].apply(lambda x: x if x in body_types else 'OTHER')\n",
    "other_df['Vehicle Make'] = other_df['Vehicle Make'].apply(lambda x: x if x in make_types else 'OTHER')\n",
    "other_df.head()"
   ]
  },
  {
   "cell_type": "code",
   "execution_count": null,
   "id": "c5255ed4",
   "metadata": {},
   "outputs": [],
   "source": [
    "other_df['Violation Time len'] = other_df['Violation Time'].apply(len)\n",
    "other_df = other_df.loc[other_df[\"Violation Time len\"] == 5]\n",
    "other_df['Violation Time'] = other_df['Violation Time']+\"M\"\n",
    "other_df['violation_hour'] = other_df[\"Violation Time\"].astype(str).str[:2].astype(int)\n",
    "other_df = other_df.loc[other_df[\"violation_hour\"] <= 24]\n",
    "other_df['Violation Time'] = other_df['Violation Time'].replace(' ', '0', regex=True)\n",
    "other_df[\"Violation Time\"] = pd.to_datetime(other_df[\"Violation Time\"], format='%H%M%p' ).dt.strftime('%H:%M %p')\n",
    "other_df.drop(columns=['Violation Time len','violation_hour'], axis=1, inplace=True)"
   ]
  },
  {
   "cell_type": "code",
   "execution_count": null,
   "id": "6cabdd13",
   "metadata": {},
   "outputs": [],
   "source": [
    "other_df['Vehicle Color'] = other_df['Vehicle Color'].map(color_dict)\n",
    "other_df['Vehicle Color'] = other_df['Vehicle Color'].fillna(\"OTH\")\n",
    "other_df.head()"
   ]
  },
  {
   "cell_type": "code",
   "execution_count": 10,
   "id": "0309deb9",
   "metadata": {},
   "outputs": [
    {
     "data": {
      "text/plain": [
       "Vehicle Color\n",
       "BLK    1845822\n",
       "BLU     699613\n",
       "BRN     117001\n",
       "GRN     127916\n",
       "GRY    2066801\n",
       "ORG      23684\n",
       "OTH     551709\n",
       "RED     405813\n",
       "WHT    1820935\n",
       "Name: Violation Code, dtype: int64"
      ]
     },
     "execution_count": 10,
     "metadata": {},
     "output_type": "execute_result"
    }
   ],
   "source": [
    "other_df.groupby(['Vehicle Color']).count()['Violation Code']"
   ]
  },
  {
   "cell_type": "code",
   "execution_count": null,
   "id": "6004bf4e",
   "metadata": {},
   "outputs": [],
   "source": [
    "other_df['Vehicle Color']/other_df.groupby(['Violation Code'])['Vehicle Color'].transform('sum')"
   ]
  },
  {
   "cell_type": "code",
   "execution_count": null,
   "id": "14cd68bc",
   "metadata": {},
   "outputs": [],
   "source": [
    "other_df.groupby(['Violation Code']).count(['Vehicle Color'])"
   ]
  },
  {
   "cell_type": "code",
   "execution_count": null,
   "id": "6c09c4af",
   "metadata": {},
   "outputs": [],
   "source": [
    "other_df.groupby(['Violation Code', 'Vehicle Color']).size()"
   ]
  },
  {
   "cell_type": "code",
   "execution_count": null,
   "id": "c0d89300",
   "metadata": {},
   "outputs": [],
   "source": []
  },
  {
   "cell_type": "code",
   "execution_count": 7,
   "id": "acc704ea",
   "metadata": {},
   "outputs": [],
   "source": [
    "other_df.to_csv('../Resources/tableau_data.csv', index=False)"
   ]
  },
  {
   "cell_type": "code",
   "execution_count": null,
   "id": "4fadaa76",
   "metadata": {},
   "outputs": [],
   "source": []
  }
 ],
 "metadata": {
  "kernelspec": {
   "display_name": "mlenv",
   "language": "python",
   "name": "mlenv"
  },
  "language_info": {
   "codemirror_mode": {
    "name": "ipython",
    "version": 3
   },
   "file_extension": ".py",
   "mimetype": "text/x-python",
   "name": "python",
   "nbconvert_exporter": "python",
   "pygments_lexer": "ipython3",
   "version": "3.7.13"
  }
 },
 "nbformat": 4,
 "nbformat_minor": 5
}
